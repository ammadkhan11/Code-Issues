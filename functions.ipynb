{
  "nbformat": 4,
  "nbformat_minor": 0,
  "metadata": {
    "colab": {
      "provenance": [],
      "authorship_tag": "ABX9TyNDomtt+IuedKWcqVWHJ+4s",
      "include_colab_link": true
    },
    "kernelspec": {
      "name": "python3",
      "display_name": "Python 3"
    },
    "language_info": {
      "name": "python"
    }
  },
  "cells": [
    {
      "cell_type": "markdown",
      "metadata": {
        "id": "view-in-github",
        "colab_type": "text"
      },
      "source": [
        "<a href=\"https://colab.research.google.com/github/ammadkhan11/Code-Issues/blob/main/functions.ipynb\" target=\"_parent\"><img src=\"https://colab.research.google.com/assets/colab-badge.svg\" alt=\"Open In Colab\"/></a>"
      ]
    },
    {
      "cell_type": "code",
      "source": [
        "#Map multible iterables\n",
        "del list\n",
        "\n",
        "numbers1 = [1,2,3]\n",
        "numbers2 = [4,5,6]\n",
        "\n",
        "added_numbers = list((map(lambda x,y:x+y,numbers1,numbers2)))\n",
        "print(added_numbers)"
      ],
      "metadata": {
        "colab": {
          "base_uri": "https://localhost:8080/"
        },
        "id": "CHS2gfwl6lFU",
        "outputId": "1f747c83-5d87-4109-e71b-4a466d3a1b01"
      },
      "execution_count": null,
      "outputs": [
        {
          "output_type": "stream",
          "name": "stdout",
          "text": [
            "[5, 7, 9]\n"
          ]
        }
      ]
    },
    {
      "cell_type": "code",
      "source": [
        "numbers = [1,2,3,4,5,6,7,8,9,10]\n",
        "\n",
        "list(map(square,numbers))"
      ],
      "metadata": {
        "id": "n7KJkyTD2kSm"
      },
      "execution_count": null,
      "outputs": []
    },
    {
      "cell_type": "code",
      "execution_count": null,
      "metadata": {
        "id": "FRALoFF_2ABY"
      },
      "outputs": [],
      "source": [
        "def square(x):\n",
        "  return x*x\n",
        "\n",
        "square(10)"
      ]
    },
    {
      "cell_type": "code",
      "source": [
        "# Lambda with map\n",
        "\n",
        "numbers = [1,2,3,4,5,6,7,8,9,10]\n",
        "list(map(lambda x:x*x, numbers))"
      ],
      "metadata": {
        "id": "NfWEUsw13CPR"
      },
      "execution_count": null,
      "outputs": []
    },
    {
      "cell_type": "code",
      "source": [
        "my_list =[]\n",
        "for i in range(1,1000):\n",
        "  my_list.append(i)\n",
        "print(my_list)"
      ],
      "metadata": {
        "id": "32wWzqBQ3MXd"
      },
      "execution_count": null,
      "outputs": []
    },
    {
      "cell_type": "code",
      "source": [
        "#Map multible iterables\n",
        "\n",
        "numbers1 = [1,2,3]\n",
        "numbers2 = [4,5,6]\n",
        "\n",
        "added_numbers=list(map(lambda x,y:x+y,numbers1,numbers2))\n",
        "print(added_numbers)"
      ],
      "metadata": {
        "id": "hLp6Wse33nOJ"
      },
      "execution_count": null,
      "outputs": []
    },
    {
      "cell_type": "code",
      "source": [
        "## map() to convert list of string to integers\n",
        "\n",
        "str_numbers = [\"1\",\"2\",\"3\",\"4\"]\n",
        "int_numbers = list(map(int, str_numbers))\n",
        "\n",
        "print(int_numbers)"
      ],
      "metadata": {
        "id": "uQK5yn6-3_8L",
        "colab": {
          "base_uri": "https://localhost:8080/"
        },
        "outputId": "281fe947-b350-445e-c283-2a6d6958b38e"
      },
      "execution_count": null,
      "outputs": [
        {
          "output_type": "stream",
          "name": "stdout",
          "text": [
            "[1, 2, 3, 4]\n"
          ]
        }
      ]
    },
    {
      "cell_type": "code",
      "source": [
        "words = [\"apple\", \"banana\", \"cherry\"]\n",
        "\n",
        "upper_words = list(map(str.upper,words))\n",
        "print(upper_words)"
      ],
      "metadata": {
        "id": "t_hJwW284BMw",
        "colab": {
          "base_uri": "https://localhost:8080/"
        },
        "outputId": "1d6efe9e-36dc-4b11-cdf7-353bc72a41b5"
      },
      "execution_count": null,
      "outputs": [
        {
          "output_type": "stream",
          "name": "stdout",
          "text": [
            "['APPLE', 'BANANA', 'CHERRY']\n"
          ]
        }
      ]
    },
    {
      "cell_type": "code",
      "source": [
        "def get_name(person):\n",
        "  return person[\"name\"]\n",
        "\n",
        "people=[\n",
        "    {\"name\":\"Ammad\",\"age\":20},\n",
        "    {\"name\":\"krish\",\"age\":32}\n",
        "]\n",
        "\n",
        "list(map(get_name,people))\n"
      ],
      "metadata": {
        "colab": {
          "base_uri": "https://localhost:8080/"
        },
        "id": "Rgu84h9s9d7b",
        "outputId": "a0e46fb8-f1a3-416d-e528-43ad8b15b8cb"
      },
      "execution_count": null,
      "outputs": [
        {
          "output_type": "execute_result",
          "data": {
            "text/plain": [
              "['Ammad', 'krish']"
            ]
          },
          "metadata": {},
          "execution_count": 56
        }
      ]
    },
    {
      "cell_type": "code",
      "source": [
        "# Binary Files\n",
        "with open(\"example.txt\", \"w\") as file:\n",
        "  file.write(\"Hello\")"
      ],
      "metadata": {
        "id": "RABQUIOA-MN-"
      },
      "execution_count": null,
      "outputs": []
    },
    {
      "cell_type": "code",
      "source": [
        "with open(\"example.txt\", \"r\") as file:\n",
        "  content = file.read()\n",
        "print(content)"
      ],
      "metadata": {
        "colab": {
          "base_uri": "https://localhost:8080/"
        },
        "id": "pj6tfU-CD6h5",
        "outputId": "6654b72d-7c56-40a8-86f9-7234d4167fb6"
      },
      "execution_count": null,
      "outputs": [
        {
          "output_type": "stream",
          "name": "stdout",
          "text": [
            "Hello\n"
          ]
        }
      ]
    },
    {
      "cell_type": "code",
      "source": [
        "data = b\"\\x00\\x01\"\n",
        "with open(\"example.bin\", \"wb\") as file:\n",
        "  file.write(data)"
      ],
      "metadata": {
        "id": "_nappVnhEER5"
      },
      "execution_count": null,
      "outputs": []
    },
    {
      "cell_type": "code",
      "source": [
        "# Read content from source text file and write it to adestination text file\n",
        "\n",
        "with open(\"example.txt\", \"r\") as source_file:\n",
        "  content = source_file.read()\n",
        "\n",
        "with open(\"destination.txt\", \"w\") as destination_file:\n",
        "  destination_file.write(content)"
      ],
      "metadata": {
        "id": "fB64pGUyEb3o"
      },
      "execution_count": null,
      "outputs": []
    },
    {
      "cell_type": "code",
      "source": [
        "# Read a text file and count the number of lines, words, and character:\n",
        "\n",
        "def count_text_files(file_path):\n",
        "  with open(file_path, \"r\") as file:\n",
        "    lines = file.readlines()\n",
        "    line_count =len(lines)\n",
        "    word_count = sum(len(line.split()) for line in lines)\n",
        "    char_count = sum(len(line) for line in lines)\n",
        "\n",
        "    return line_count, word_count, char_count\n",
        "\n",
        "file_path = \"/content/example.txt\"\n",
        "lines, words, characters = count_text_files(file_path)\n",
        "print(f\"Lines: {lines}, Words: {words}, Characters:{characters}\")"
      ],
      "metadata": {
        "colab": {
          "base_uri": "https://localhost:8080/"
        },
        "id": "LX1-jn2YIOq0",
        "outputId": "763cdbec-511d-4107-e7b7-89efff115130"
      },
      "execution_count": null,
      "outputs": [
        {
          "output_type": "stream",
          "name": "stdout",
          "text": [
            "Lines: 3, Words: 5, Characters:24\n"
          ]
        }
      ]
    },
    {
      "cell_type": "code",
      "source": [
        "# Writing and then reading a file:\n",
        "\n",
        "with open(\"example.txt\", \"w+\") as file:\n",
        "  content = file.read()\n",
        "  print(content)\n",
        "  file.write(\"This is a new line. \\n\")\n",
        "  file.write(\"This new line is here. \\n\")\n",
        "\n",
        "  # Move the file cursor\n",
        "  # file.seek(0)\n",
        "  content= file.read()\n",
        "  print(content)"
      ],
      "metadata": {
        "colab": {
          "base_uri": "https://localhost:8080/"
        },
        "id": "cpqvV00JhNqV",
        "outputId": "9a3e5b14-e041-4f5c-ad91-beaf3b15b0e0"
      },
      "execution_count": 14,
      "outputs": [
        {
          "output_type": "stream",
          "name": "stdout",
          "text": [
            "\n",
            "\n"
          ]
        }
      ]
    },
    {
      "cell_type": "code",
      "source": [
        "# Create new directory:\n",
        "import os\n",
        "new_directory = \"package\"\n",
        "os.mkdir(new_directory)\n",
        "print(f\"Directory: {new_directory} created\")"
      ],
      "metadata": {
        "id": "qRbJ0NVPiqKz",
        "colab": {
          "base_uri": "https://localhost:8080/"
        },
        "outputId": "f11b2790-b1cf-4546-9c80-01511634b58a"
      },
      "execution_count": 19,
      "outputs": [
        {
          "output_type": "stream",
          "name": "stdout",
          "text": [
            "Directory: package created\n"
          ]
        }
      ]
    },
    {
      "cell_type": "code",
      "source": [
        "# Listing files and directories\n",
        "\n",
        "items = os.listdir(\".\")\n",
        "print(items)"
      ],
      "metadata": {
        "colab": {
          "base_uri": "https://localhost:8080/"
        },
        "id": "B04JZnb3nryE",
        "outputId": "784596bb-34fb-4e89-f49e-a354a5549d1b"
      },
      "execution_count": 29,
      "outputs": [
        {
          "output_type": "stream",
          "name": "stdout",
          "text": [
            "['.config', 'example.bin', 'example.txt', 'package', '.ipynb_checkpoints', 'destination.txt', 'sample_data']\n"
          ]
        }
      ]
    },
    {
      "cell_type": "code",
      "source": [
        "# Joining Paths:\n",
        "dir_name = \"folder\"\n",
        "file_name = \"file.txt\"\n",
        "full_path = os.path.join(os.getcwd(), dir_name, file_name)\n",
        "print(full_path)"
      ],
      "metadata": {
        "colab": {
          "base_uri": "https://localhost:8080/"
        },
        "id": "bnu1TM0hn9TC",
        "outputId": "ef4dd620-cde9-4a5a-fc6f-7dbf7e9015e6"
      },
      "execution_count": 32,
      "outputs": [
        {
          "output_type": "stream",
          "name": "stdout",
          "text": [
            "/content/folder/file.txt\n"
          ]
        }
      ]
    },
    {
      "cell_type": "code",
      "source": [
        "path = \"example1.txt\"\n",
        "if os.path.exists(path):\n",
        "  print(f\"The path {path} exists\")\n",
        "else:\n",
        "  print(f\"The path {path} does not exists\")"
      ],
      "metadata": {
        "colab": {
          "base_uri": "https://localhost:8080/"
        },
        "id": "UHZ9lbehofvd",
        "outputId": "c48bfb73-7712-4f2a-9cfd-449260b3bef9"
      },
      "execution_count": 33,
      "outputs": [
        {
          "output_type": "stream",
          "name": "stdout",
          "text": [
            "The path example1.txt does not exists\n"
          ]
        }
      ]
    },
    {
      "cell_type": "code",
      "source": [
        "# Getting the absolute path:\n",
        "\n",
        "relative_path = \"example.txt\"\n",
        "absolute_path = os.path.abspath(relative_path)\n",
        "print(absolute_path)"
      ],
      "metadata": {
        "colab": {
          "base_uri": "https://localhost:8080/"
        },
        "id": "44QW6gr9pBtA",
        "outputId": "af535fab-7504-41db-c913-92ad5fb078f1"
      },
      "execution_count": 34,
      "outputs": [
        {
          "output_type": "stream",
          "name": "stdout",
          "text": [
            "/content/example.txt\n"
          ]
        }
      ]
    },
    {
      "cell_type": "code",
      "source": [],
      "metadata": {
        "id": "pfj-kV5VpmFf"
      },
      "execution_count": null,
      "outputs": []
    }
  ]
}